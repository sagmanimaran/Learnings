{
 "cells": [
  {
   "cell_type": "code",
   "execution_count": 1,
   "metadata": {},
   "outputs": [],
   "source": [
    "import pandas as pd\n",
    "from matplotlib import pyplot as plt\n",
    "import numpy as np"
   ]
  },
  {
   "cell_type": "code",
   "execution_count": 11,
   "metadata": {},
   "outputs": [
    {
     "data": {
      "text/plain": [
       "636"
      ]
     },
     "execution_count": 11,
     "metadata": {},
     "output_type": "execute_result"
    }
   ],
   "source": [
    "# Reading the files\n",
    "\n",
    "matches=pd.read_csv('D:/IPL/matches.csv')\n",
    "deliveries=pd.read_csv('D:/IPL/deliveries.csv')\n",
    "\n",
    "matches.shape[0]\n"
   ]
  },
  {
   "cell_type": "code",
   "execution_count": 12,
   "metadata": {
    "scrolled": true
   },
   "outputs": [
    {
     "name": "stdout",
     "output_type": "stream",
     "text": [
      "633\n",
      "Pune Warriors                  0.471698\n",
      "Rising Pune Supergiants        0.471698\n",
      "Kochi Tuskers Kerala           0.628931\n",
      "Rising Pune Supergiant         0.786164\n",
      "Gujarat Lions                  1.572327\n",
      "Sunrisers Hyderabad            2.672956\n",
      "Deccan Chargers                2.987421\n",
      "Kings XI Punjab                4.402516\n",
      "Delhi Daredevils               5.188679\n",
      "Rajasthan Royals               5.345912\n",
      "Royal Challengers Bangalore    5.503145\n",
      "Chennai Super Kings            6.603774\n",
      "Kolkata Knight Riders          6.918239\n",
      "Mumbai Indians                 7.547170\n",
      "Name: winner, dtype: float64\n",
      "Toss vs Win Percentage :  3.650044923629829\n"
     ]
    }
   ],
   "source": [
    "# Is toss influencing the match winner\n",
    "# Parameters : Toss Winner vs Match Winner\n",
    "\n",
    "\n",
    "\n",
    "#Finding the Winners\n",
    "condition=(matches['toss_winner']== matches['winner'])\n",
    "winners=matches[condition]\n",
    "winners_count=winners['winner'].value_counts()\n",
    "\n",
    "\n",
    "\n",
    "\n",
    "#Finding the Losers\n",
    "condition=(matches['toss_winner']!= matches['winner'])\n",
    "losers=matches[condition]\n",
    "losers_count=losers['winner'].value_counts()\n",
    "\n",
    "\n",
    "\n",
    "\n",
    "#Comparing Winners and Total Matches\n",
    "total_matches=winners_count+losers_count\n",
    "print(sum(total_matches))\n",
    "\n",
    "percentage= (winners_count/636)*100\n",
    "print(percentage.sort_values())\n",
    "\n",
    "print(\"Toss vs Win Percentage : \",percentage.mean())"
   ]
  },
  {
   "cell_type": "code",
   "execution_count": 4,
   "metadata": {},
   "outputs": [
    {
     "name": "stdout",
     "output_type": "stream",
     "text": [
      "SL Malinga         170\n",
      "A Mishra           142\n",
      "DJ Bravo           137\n",
      "Harbhajan Singh    136\n",
      "PP Chawla          133\n",
      "R Vinay Kumar      125\n",
      "A Nehra            121\n",
      "Z Khan             119\n",
      "B Kumar            117\n",
      "R Ashwin           110\n",
      "Name: bowler, dtype: int64\n"
     ]
    }
   ],
   "source": [
    "# Top 10 Bowlers by Wickets\n",
    "import numpy as np\n",
    "\n",
    "\n",
    "dismissals=deliveries[deliveries['player_dismissed'].isnull() ==  False]\n",
    "dismissal=dismissals['bowler'].value_counts()\n",
    "print(dismissal.head(10))"
   ]
  },
  {
   "cell_type": "code",
   "execution_count": 5,
   "metadata": {},
   "outputs": [
    {
     "data": {
      "text/plain": [
       "V Sehwag          155.441595\n",
       "CH Gayle          151.556663\n",
       "AB de Villiers    148.466780\n",
       "KA Pollard        146.941323\n",
       "YK Pathan         146.100000\n",
       "DA Warner         142.088496\n",
       "DA Miller         141.320072\n",
       "SK Raina          139.210285\n",
       "SR Watson         138.680739\n",
       "AC Gilchrist      138.394649\n",
       "dtype: float64"
      ]
     },
     "execution_count": 5,
     "metadata": {},
     "output_type": "execute_result"
    }
   ],
   "source": [
    "# Top 10 Batsmen  by Strike Rate\n",
    "# Strike Rate = (Total Runs by Batsmen/Total Balls faced by the Batsmen)*100\n",
    "\n",
    "condition=(deliveries['wide_runs']==0)\n",
    "total_ball=deliveries[condition]\n",
    "tot=tal_ballsotal_ball['batsman'].value_counts()\n",
    "total_balls=total_balls.head(50)\n",
    "\n",
    "condition= total_ball.groupby(['batsman']).sum()\n",
    "total_runs=condition['batsman_runs']\n",
    "\n",
    "strike_rate=(total_runs/total_balls)*100\n",
    "strike_rate.sort_values(ascending=False).head(10)"
   ]
  },
  {
   "cell_type": "code",
   "execution_count": 6,
   "metadata": {},
   "outputs": [
    {
     "data": {
      "text/plain": [
       "venue                                                 toss_decision\n",
       "Barabati Stadium                                      bat               2\n",
       "                                                      field             5\n",
       "Brabourne Stadium                                     bat               6\n",
       "                                                      field             5\n",
       "Buffalo Park                                          bat               3\n",
       "De Beers Diamond Oval                                 bat               2\n",
       "                                                      field             1\n",
       "Dr DY Patil Sports Academy                            bat               7\n",
       "                                                      field            10\n",
       "Dr. Y.S. Rajasekhara Reddy ACA-VDCA Cricket Stadium   bat               5\n",
       "                                                      field             6\n",
       "Dubai International Cricket Stadium                   bat               3\n",
       "                                                      field             4\n",
       "Eden Gardens                                          bat              28\n",
       "                                                      field            33\n",
       "Feroz Shah Kotla                                      bat              26\n",
       "                                                      field            34\n",
       "Green Park                                            field             4\n",
       "Himachal Pradesh Cricket Association Stadium          bat               1\n",
       "                                                      field             8\n",
       "Holkar Cricket Stadium                                bat               1\n",
       "                                                      field             4\n",
       "JSCA International Stadium Complex                    bat               3\n",
       "                                                      field             4\n",
       "Kingsmead                                             bat              10\n",
       "                                                      field             5\n",
       "M Chinnaswamy Stadium                                 bat               9\n",
       "                                                      field            57\n",
       "MA Chidambaram Stadium, Chepauk                       bat              34\n",
       "                                                      field            14\n",
       "                                                                       ..\n",
       "Newlands                                              field             3\n",
       "OUTsurance Oval                                       bat               1\n",
       "                                                      field             1\n",
       "Punjab Cricket Association IS Bindra Stadium, Mohali  bat               2\n",
       "                                                      field             9\n",
       "Punjab Cricket Association Stadium, Mohali            bat              14\n",
       "                                                      field            21\n",
       "Rajiv Gandhi International Stadium, Uppal             bat              23\n",
       "                                                      field            26\n",
       "Sardar Patel Stadium, Motera                          bat               6\n",
       "                                                      field             6\n",
       "Saurashtra Cricket Association Stadium                bat               3\n",
       "                                                      field             7\n",
       "Sawai Mansingh Stadium                                bat              14\n",
       "                                                      field            19\n",
       "Shaheed Veer Narayan Singh International Stadium      bat               3\n",
       "                                                      field             3\n",
       "Sharjah Cricket Stadium                               bat               2\n",
       "                                                      field             4\n",
       "Sheikh Zayed Stadium                                  bat               4\n",
       "                                                      field             3\n",
       "St George's Park                                      bat               7\n",
       "Subrata Roy Sahara Stadium                            bat              15\n",
       "                                                      field             2\n",
       "SuperSport Park                                       bat               6\n",
       "                                                      field             6\n",
       "Vidarbha Cricket Association Stadium, Jamtha          bat               2\n",
       "                                                      field             1\n",
       "Wankhede Stadium                                      bat              21\n",
       "                                                      field            36\n",
       "Length: 67, dtype: int64"
      ]
     },
     "execution_count": 6,
     "metadata": {},
     "output_type": "execute_result"
    }
   ],
   "source": [
    "# Venue and Team wise Toss Decision\n",
    "\n",
    "value=matches.groupby(['venue','toss_decision']).size()\n",
    "value\n"
   ]
  },
  {
   "cell_type": "code",
   "execution_count": 7,
   "metadata": {},
   "outputs": [
    {
     "data": {
      "text/plain": [
       "batsman\n",
       "SK Raina     4548\n",
       "V Kohli      4423\n",
       "RG Sharma    4207\n",
       "G Gambhir    4132\n",
       "DA Warner    4014\n",
       "Name: batsman_runs, dtype: int64"
      ]
     },
     "execution_count": 7,
     "metadata": {},
     "output_type": "execute_result"
    }
   ],
   "source": [
    "# Top 5 run scoring batsman\n",
    "\n",
    "condition= total_ball.groupby(['batsman']).sum()\n",
    "total_runs=condition['batsman_runs']\n",
    "total_runs.sort_values(ascending=False).head()"
   ]
  },
  {
   "cell_type": "code",
   "execution_count": 8,
   "metadata": {},
   "outputs": [
    {
     "data": {
      "text/plain": [
       "['Deccan Chargers',\n",
       " 'Gujarat Lions',\n",
       " 'Kochi Tuskers Kerala',\n",
       " 'Mumbai Indians',\n",
       " 'Pune Warriors',\n",
       " 'Rajasthan Royals',\n",
       " 'Rising Pune Supergiant']"
      ]
     },
     "execution_count": 8,
     "metadata": {},
     "output_type": "execute_result"
    }
   ],
   "source": [
    "# Teams which are not affected by Duckworth Lewis\n",
    "\n",
    "condition=(matches['dl_applied']==1)\n",
    "duck_affected=matches[condition]\n",
    "teams_affected=duck_affected[['team1','team2']].copy()\n",
    "\n",
    "\n",
    "condition=(matches['dl_applied']==0)\n",
    "duck_escaped=matches[condition]\n",
    "teams_escaped=duck_escaped[['team1','team2']].copy()\n",
    "\n",
    "t1a=teams_affected.team1.unique()\n",
    "t2a=teams_affected.team2.unique()\n",
    "ta=[]\n",
    "for i in t1a:\n",
    "    for j in t2a:\n",
    "        if i!=j:\n",
    "            ta.append(i)\n",
    "a=np.array(ta)\n",
    "A=np.unique(a)\n",
    "\n",
    "t1e=teams_escaped.team1.unique()\n",
    "t2e=teams_escaped.team2.unique()\n",
    "te=[]\n",
    "for i in t1e:\n",
    "    for j in t2e:\n",
    "        if i!=j:\n",
    "            te.append(i)\n",
    "e=np.array(te)\n",
    "E=np.unique(e)\n",
    "\n",
    "escaped=[i for i in E if i not in A]\n",
    "escaped            \n"
   ]
  }
 ],
 "metadata": {
  "kernelspec": {
   "display_name": "Python 3",
   "language": "python",
   "name": "python3"
  },
  "language_info": {
   "codemirror_mode": {
    "name": "ipython",
    "version": 3
   },
   "file_extension": ".py",
   "mimetype": "text/x-python",
   "name": "python",
   "nbconvert_exporter": "python",
   "pygments_lexer": "ipython3",
   "version": "3.7.3"
  }
 },
 "nbformat": 4,
 "nbformat_minor": 2
}
